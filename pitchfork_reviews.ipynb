{
 "cells": [
  {
   "cell_type": "markdown",
   "metadata": {},
   "source": [
    "In this notebook I am going to do an exploratory analysis on Pitchfork reviews data. The data was taken from Kaggle (https://www.kaggle.com/nolanbconaway/pitchfork-data).\n",
    "The questions that I am trying to answer are: <br>\n",
    "    1. Who has the most rated albums by Pitchfork? <br>\n",
    "    2. Who has the most reviewed by pitchfork and has a score of 10? <br>\n",
    "    3. Which year is the highest rated? <br>\n",
    "    4. Who is the best artist according to Pitchfork? <br>\n",
    "    5. What is the Pitchfork's genre selection over the years? <br>\n",
    "    6. Which artists improved themselves?"
   ]
  },
  {
   "cell_type": "code",
   "execution_count": 1,
   "metadata": {},
   "outputs": [
    {
     "name": "stdout",
     "output_type": "stream",
     "text": [
      "reviewid            int64\n",
      "title              object\n",
      "artist             object\n",
      "url                object\n",
      "score             float64\n",
      "best_new_music      int64\n",
      "author             object\n",
      "author_type        object\n",
      "pub_date           object\n",
      "pub_weekday         int64\n",
      "pub_day             int64\n",
      "pub_month           int64\n",
      "pub_year            int64\n",
      "dtype: object\n"
     ]
    },
    {
     "data": {
      "text/html": [
       "<div>\n",
       "<style scoped>\n",
       "    .dataframe tbody tr th:only-of-type {\n",
       "        vertical-align: middle;\n",
       "    }\n",
       "\n",
       "    .dataframe tbody tr th {\n",
       "        vertical-align: top;\n",
       "    }\n",
       "\n",
       "    .dataframe thead th {\n",
       "        text-align: right;\n",
       "    }\n",
       "</style>\n",
       "<table border=\"1\" class=\"dataframe\">\n",
       "  <thead>\n",
       "    <tr style=\"text-align: right;\">\n",
       "      <th></th>\n",
       "      <th>reviewid</th>\n",
       "      <th>title</th>\n",
       "      <th>artist</th>\n",
       "      <th>url</th>\n",
       "      <th>score</th>\n",
       "      <th>best_new_music</th>\n",
       "      <th>author</th>\n",
       "      <th>author_type</th>\n",
       "      <th>pub_date</th>\n",
       "      <th>pub_weekday</th>\n",
       "      <th>pub_day</th>\n",
       "      <th>pub_month</th>\n",
       "      <th>pub_year</th>\n",
       "    </tr>\n",
       "  </thead>\n",
       "  <tbody>\n",
       "    <tr>\n",
       "      <th>0</th>\n",
       "      <td>22703</td>\n",
       "      <td>mezzanine</td>\n",
       "      <td>massive attack</td>\n",
       "      <td>http://pitchfork.com/reviews/albums/22703-mezz...</td>\n",
       "      <td>9.3</td>\n",
       "      <td>0</td>\n",
       "      <td>nate patrin</td>\n",
       "      <td>contributor</td>\n",
       "      <td>2017-01-08</td>\n",
       "      <td>6</td>\n",
       "      <td>8</td>\n",
       "      <td>1</td>\n",
       "      <td>2017</td>\n",
       "    </tr>\n",
       "    <tr>\n",
       "      <th>1</th>\n",
       "      <td>22721</td>\n",
       "      <td>prelapsarian</td>\n",
       "      <td>krallice</td>\n",
       "      <td>http://pitchfork.com/reviews/albums/22721-prel...</td>\n",
       "      <td>7.9</td>\n",
       "      <td>0</td>\n",
       "      <td>zoe camp</td>\n",
       "      <td>contributor</td>\n",
       "      <td>2017-01-07</td>\n",
       "      <td>5</td>\n",
       "      <td>7</td>\n",
       "      <td>1</td>\n",
       "      <td>2017</td>\n",
       "    </tr>\n",
       "    <tr>\n",
       "      <th>2</th>\n",
       "      <td>22659</td>\n",
       "      <td>all of them naturals</td>\n",
       "      <td>uranium club</td>\n",
       "      <td>http://pitchfork.com/reviews/albums/22659-all-...</td>\n",
       "      <td>7.3</td>\n",
       "      <td>0</td>\n",
       "      <td>david glickman</td>\n",
       "      <td>contributor</td>\n",
       "      <td>2017-01-07</td>\n",
       "      <td>5</td>\n",
       "      <td>7</td>\n",
       "      <td>1</td>\n",
       "      <td>2017</td>\n",
       "    </tr>\n",
       "    <tr>\n",
       "      <th>3</th>\n",
       "      <td>22661</td>\n",
       "      <td>first songs</td>\n",
       "      <td>kleenex, liliput</td>\n",
       "      <td>http://pitchfork.com/reviews/albums/22661-firs...</td>\n",
       "      <td>9.0</td>\n",
       "      <td>1</td>\n",
       "      <td>jenn pelly</td>\n",
       "      <td>associate reviews editor</td>\n",
       "      <td>2017-01-06</td>\n",
       "      <td>4</td>\n",
       "      <td>6</td>\n",
       "      <td>1</td>\n",
       "      <td>2017</td>\n",
       "    </tr>\n",
       "    <tr>\n",
       "      <th>4</th>\n",
       "      <td>22725</td>\n",
       "      <td>new start</td>\n",
       "      <td>taso</td>\n",
       "      <td>http://pitchfork.com/reviews/albums/22725-new-...</td>\n",
       "      <td>8.1</td>\n",
       "      <td>0</td>\n",
       "      <td>kevin lozano</td>\n",
       "      <td>tracks coordinator</td>\n",
       "      <td>2017-01-06</td>\n",
       "      <td>4</td>\n",
       "      <td>6</td>\n",
       "      <td>1</td>\n",
       "      <td>2017</td>\n",
       "    </tr>\n",
       "  </tbody>\n",
       "</table>\n",
       "</div>"
      ],
      "text/plain": [
       "   reviewid                 title            artist  \\\n",
       "0     22703             mezzanine    massive attack   \n",
       "1     22721          prelapsarian          krallice   \n",
       "2     22659  all of them naturals      uranium club   \n",
       "3     22661           first songs  kleenex, liliput   \n",
       "4     22725             new start              taso   \n",
       "\n",
       "                                                 url  score  best_new_music  \\\n",
       "0  http://pitchfork.com/reviews/albums/22703-mezz...    9.3               0   \n",
       "1  http://pitchfork.com/reviews/albums/22721-prel...    7.9               0   \n",
       "2  http://pitchfork.com/reviews/albums/22659-all-...    7.3               0   \n",
       "3  http://pitchfork.com/reviews/albums/22661-firs...    9.0               1   \n",
       "4  http://pitchfork.com/reviews/albums/22725-new-...    8.1               0   \n",
       "\n",
       "           author               author_type    pub_date  pub_weekday  pub_day  \\\n",
       "0     nate patrin               contributor  2017-01-08            6        8   \n",
       "1        zoe camp               contributor  2017-01-07            5        7   \n",
       "2  david glickman               contributor  2017-01-07            5        7   \n",
       "3      jenn pelly  associate reviews editor  2017-01-06            4        6   \n",
       "4    kevin lozano        tracks coordinator  2017-01-06            4        6   \n",
       "\n",
       "   pub_month  pub_year  \n",
       "0          1      2017  \n",
       "1          1      2017  \n",
       "2          1      2017  \n",
       "3          1      2017  \n",
       "4          1      2017  "
      ]
     },
     "execution_count": 1,
     "metadata": {},
     "output_type": "execute_result"
    }
   ],
   "source": [
    "import pandas as pd\n",
    "\n",
    "rew_tb = pd.read_csv(\"reviews.csv\")\n",
    "art_tb = pd.read_csv(\"artists.csv\")\n",
    "y_tb = pd.read_csv(\"years.csv\")\n",
    "g_tb = pd.read_csv(\"genres.csv\")\n",
    "print(rew_tb.dtypes)\n",
    "rew_tb.head()"
   ]
  },
  {
   "cell_type": "markdown",
   "metadata": {},
   "source": [
    "In here I am cleaning the data. Also, I am excluding the reviews which includes more than one artist."
   ]
  },
  {
   "cell_type": "code",
   "execution_count": 2,
   "metadata": {},
   "outputs": [],
   "source": [
    "rew_tb.drop_duplicates(ignore_index=True, inplace=True)\n",
    "rew_tb[\"mul\"] = rew_tb['artist'].str.contains(r',')\n",
    "rew_tb = rew_tb[rew_tb[\"mul\"] == False]\n",
    "rew_tb = rew_tb[rew_tb[\"artist\"] != \"various artists\"]\n",
    "y_tb = y_tb.fillna(-1000)"
   ]
  },
  {
   "cell_type": "markdown",
   "metadata": {},
   "source": [
    "As you can see from below, I am merging all the needed data into one data frame and correcting their data types."
   ]
  },
  {
   "cell_type": "code",
   "execution_count": 3,
   "metadata": {},
   "outputs": [
    {
     "name": "stdout",
     "output_type": "stream",
     "text": [
      "artist       string\n",
      "title        string\n",
      "reviewid      int64\n",
      "score       float64\n",
      "year          int64\n",
      "pub_year      int64\n",
      "genre        string\n",
      "dtype: object\n"
     ]
    },
    {
     "data": {
      "text/html": [
       "<div>\n",
       "<style scoped>\n",
       "    .dataframe tbody tr th:only-of-type {\n",
       "        vertical-align: middle;\n",
       "    }\n",
       "\n",
       "    .dataframe tbody tr th {\n",
       "        vertical-align: top;\n",
       "    }\n",
       "\n",
       "    .dataframe thead th {\n",
       "        text-align: right;\n",
       "    }\n",
       "</style>\n",
       "<table border=\"1\" class=\"dataframe\">\n",
       "  <thead>\n",
       "    <tr style=\"text-align: right;\">\n",
       "      <th></th>\n",
       "      <th>artist</th>\n",
       "      <th>title</th>\n",
       "      <th>reviewid</th>\n",
       "      <th>score</th>\n",
       "      <th>year</th>\n",
       "      <th>pub_year</th>\n",
       "      <th>genre</th>\n",
       "    </tr>\n",
       "  </thead>\n",
       "  <tbody>\n",
       "    <tr>\n",
       "      <th>0</th>\n",
       "      <td>massive attack</td>\n",
       "      <td>mezzanine</td>\n",
       "      <td>22703</td>\n",
       "      <td>9.3</td>\n",
       "      <td>1998</td>\n",
       "      <td>2017</td>\n",
       "      <td>electronic</td>\n",
       "    </tr>\n",
       "    <tr>\n",
       "      <th>1</th>\n",
       "      <td>krallice</td>\n",
       "      <td>prelapsarian</td>\n",
       "      <td>22721</td>\n",
       "      <td>7.9</td>\n",
       "      <td>2016</td>\n",
       "      <td>2017</td>\n",
       "      <td>metal</td>\n",
       "    </tr>\n",
       "    <tr>\n",
       "      <th>2</th>\n",
       "      <td>uranium club</td>\n",
       "      <td>all of them naturals</td>\n",
       "      <td>22659</td>\n",
       "      <td>7.3</td>\n",
       "      <td>2016</td>\n",
       "      <td>2017</td>\n",
       "      <td>rock</td>\n",
       "    </tr>\n",
       "    <tr>\n",
       "      <th>3</th>\n",
       "      <td>taso</td>\n",
       "      <td>new start</td>\n",
       "      <td>22725</td>\n",
       "      <td>8.1</td>\n",
       "      <td>2016</td>\n",
       "      <td>2017</td>\n",
       "      <td>electronic</td>\n",
       "    </tr>\n",
       "    <tr>\n",
       "      <th>4</th>\n",
       "      <td>little simz</td>\n",
       "      <td>stillness in wonderland</td>\n",
       "      <td>22704</td>\n",
       "      <td>7.1</td>\n",
       "      <td>2016</td>\n",
       "      <td>2017</td>\n",
       "      <td>rap</td>\n",
       "    </tr>\n",
       "  </tbody>\n",
       "</table>\n",
       "</div>"
      ],
      "text/plain": [
       "           artist                    title  reviewid  score  year  pub_year  \\\n",
       "0  massive attack                mezzanine     22703    9.3  1998      2017   \n",
       "1        krallice             prelapsarian     22721    7.9  2016      2017   \n",
       "2    uranium club     all of them naturals     22659    7.3  2016      2017   \n",
       "3            taso                new start     22725    8.1  2016      2017   \n",
       "4     little simz  stillness in wonderland     22704    7.1  2016      2017   \n",
       "\n",
       "        genre  \n",
       "0  electronic  \n",
       "1       metal  \n",
       "2        rock  \n",
       "3  electronic  \n",
       "4         rap  "
      ]
     },
     "execution_count": 3,
     "metadata": {},
     "output_type": "execute_result"
    }
   ],
   "source": [
    "fin_tb = pd.merge(rew_tb[['artist', 'title', 'reviewid', 'score', 'pub_year']], y_tb, on='reviewid')\n",
    "fin_tb = pd.merge(fin_tb[['artist', 'title', 'reviewid', 'score', 'year', 'pub_year']], g_tb, on='reviewid')\n",
    "fin_tb = fin_tb.astype({'title': 'string', 'artist': 'string', 'genre': 'string', 'year': 'int64'})\n",
    "print(fin_tb.dtypes)\n",
    "fin_tb.head()"
   ]
  },
  {
   "cell_type": "markdown",
   "metadata": {},
   "source": [
    "**1. Who has the most rated albums by Pitchfork?**"
   ]
  },
  {
   "cell_type": "markdown",
   "metadata": {},
   "source": [
    "Because of the merging I did when I am looking purely at the number of the albums an artist made, I need to drop the duplicates. In here we are seeing top 10 most artists reviewed by Pitchfork."
   ]
  },
  {
   "cell_type": "code",
   "execution_count": 4,
   "metadata": {},
   "outputs": [
    {
     "name": "stdout",
     "output_type": "stream",
     "text": [
      "                   count\n",
      "artist                  \n",
      "guided by voices      23\n",
      "david bowie           21\n",
      "the beatles           21\n",
      "mogwai                20\n",
      "robert pollard        19\n",
      "neil young            19\n",
      "of montreal           19\n",
      "the fall              18\n",
      "xiu xiu               17\n",
      "animal collective     16\n"
     ]
    }
   ],
   "source": [
    "albums = fin_tb.drop_duplicates(subset=['artist', 'title'])\n",
    "print(albums.iloc[0:, 0:2].groupby('artist').count().sort_values('title', ascending=False)\n",
    "      .rename(columns={'title': 'count'}).head(10))"
   ]
  },
  {
   "cell_type": "markdown",
   "metadata": {},
   "source": [
    "In here I am looking at top 10 most artists reviewed by Pitchfork and had a score more than 8."
   ]
  },
  {
   "cell_type": "code",
   "execution_count": 5,
   "metadata": {},
   "outputs": [
    {
     "name": "stdout",
     "output_type": "stream",
     "text": [
      "                   count\n",
      "artist                  \n",
      "the beatles           16\n",
      "miles davis           12\n",
      "david bowie           11\n",
      "r.e.m.                 9\n",
      "califone               9\n",
      "bob dylan              9\n",
      "radiohead              8\n",
      "mogwai                 8\n",
      "animal collective      8\n",
      "sonic youth            8\n"
     ]
    }
   ],
   "source": [
    "print(albums[albums['score'] >= 8].iloc[0:, 0:2].groupby('artist').count().sort_values('title', ascending=False)\n",
    "      .rename(columns={'title': 'count'}).head(10))"
   ]
  },
  {
   "cell_type": "markdown",
   "metadata": {},
   "source": [
    "**2. Who has the most reviewed by pitchfork and has a score of 10?**"
   ]
  },
  {
   "cell_type": "markdown",
   "metadata": {},
   "source": [
    "In here I am looking at top 10 most artists reviewed by Pitchfork and had a score of 10."
   ]
  },
  {
   "cell_type": "code",
   "execution_count": 6,
   "metadata": {},
   "outputs": [
    {
     "name": "stdout",
     "output_type": "stream",
     "text": [
      "                        count\n",
      "artist                       \n",
      "the beatles                 7\n",
      "prince                      3\n",
      "the velvet underground      3\n",
      "nirvana                     2\n",
      "r.e.m.                      2\n",
      "radiohead                   2\n",
      "david bowie                 2\n",
      "john coltrane               2\n",
      "the rolling stones          2\n",
      "pavement                    2\n"
     ]
    }
   ],
   "source": [
    "print(albums[albums['score'] == 10].iloc[0:, 0:2].groupby('artist').count().sort_values('title', ascending=False)\n",
    "      .rename(columns={'title': 'count'}).head(10))"
   ]
  },
  {
   "cell_type": "markdown",
   "metadata": {},
   "source": [
    "**3. Which year is the highest rated?**"
   ]
  },
  {
   "cell_type": "markdown",
   "metadata": {},
   "source": [
    "Now we are going to look at most successful year judging from review scores. I am going to take the year from when the album was out not from when it was reviewed."
   ]
  },
  {
   "cell_type": "code",
   "execution_count": 7,
   "metadata": {},
   "outputs": [
    {
     "data": {
      "text/html": [
       "<div>\n",
       "<style scoped>\n",
       "    .dataframe tbody tr th:only-of-type {\n",
       "        vertical-align: middle;\n",
       "    }\n",
       "\n",
       "    .dataframe tbody tr th {\n",
       "        vertical-align: top;\n",
       "    }\n",
       "\n",
       "    .dataframe thead th {\n",
       "        text-align: right;\n",
       "    }\n",
       "</style>\n",
       "<table border=\"1\" class=\"dataframe\">\n",
       "  <thead>\n",
       "    <tr style=\"text-align: right;\">\n",
       "      <th></th>\n",
       "      <th>artist</th>\n",
       "      <th>title</th>\n",
       "      <th>score</th>\n",
       "      <th>year</th>\n",
       "    </tr>\n",
       "  </thead>\n",
       "  <tbody>\n",
       "    <tr>\n",
       "      <th>6</th>\n",
       "      <td>brian eno</td>\n",
       "      <td>reflection</td>\n",
       "      <td>7.7</td>\n",
       "      <td>2017</td>\n",
       "    </tr>\n",
       "    <tr>\n",
       "      <th>908</th>\n",
       "      <td>dej loaf</td>\n",
       "      <td>all jokes aside</td>\n",
       "      <td>7.5</td>\n",
       "      <td>2016</td>\n",
       "    </tr>\n",
       "    <tr>\n",
       "      <th>851</th>\n",
       "      <td>death grips</td>\n",
       "      <td>bottomless pit</td>\n",
       "      <td>8.1</td>\n",
       "      <td>2016</td>\n",
       "    </tr>\n",
       "    <tr>\n",
       "      <th>858</th>\n",
       "      <td>mary chapin carpenter</td>\n",
       "      <td>the things that we are made of</td>\n",
       "      <td>6.8</td>\n",
       "      <td>2016</td>\n",
       "    </tr>\n",
       "    <tr>\n",
       "      <th>857</th>\n",
       "      <td>gregory porter</td>\n",
       "      <td>take me to the alley</td>\n",
       "      <td>6.7</td>\n",
       "      <td>2016</td>\n",
       "    </tr>\n",
       "  </tbody>\n",
       "</table>\n",
       "</div>"
      ],
      "text/plain": [
       "                    artist                           title  score  year\n",
       "6                brian eno                      reflection    7.7  2017\n",
       "908               dej loaf                 all jokes aside    7.5  2016\n",
       "851            death grips                  bottomless pit    8.1  2016\n",
       "858  mary chapin carpenter  the things that we are made of    6.8  2016\n",
       "857         gregory porter            take me to the alley    6.7  2016"
      ]
     },
     "execution_count": 7,
     "metadata": {},
     "output_type": "execute_result"
    }
   ],
   "source": [
    "bst_y = fin_tb.iloc[0:, [0, 1, 3, 4]].sort_values('year', ascending=False)\n",
    "bst_y.head()"
   ]
  },
  {
   "cell_type": "markdown",
   "metadata": {},
   "source": [
    "I am keeping the reviews with multiple years. From the result we can see they are very close, but the best year was 2016."
   ]
  },
  {
   "cell_type": "code",
   "execution_count": 8,
   "metadata": {},
   "outputs": [
    {
     "data": {
      "text/html": [
       "<div>\n",
       "<style scoped>\n",
       "    .dataframe tbody tr th:only-of-type {\n",
       "        vertical-align: middle;\n",
       "    }\n",
       "\n",
       "    .dataframe tbody tr th {\n",
       "        vertical-align: top;\n",
       "    }\n",
       "\n",
       "    .dataframe thead th {\n",
       "        text-align: right;\n",
       "    }\n",
       "</style>\n",
       "<table border=\"1\" class=\"dataframe\">\n",
       "  <thead>\n",
       "    <tr style=\"text-align: right;\">\n",
       "      <th></th>\n",
       "      <th>year</th>\n",
       "      <th>score</th>\n",
       "    </tr>\n",
       "  </thead>\n",
       "  <tbody>\n",
       "    <tr>\n",
       "      <th>11</th>\n",
       "      <td>2016</td>\n",
       "      <td>7.186878</td>\n",
       "    </tr>\n",
       "    <tr>\n",
       "      <th>10</th>\n",
       "      <td>2015</td>\n",
       "      <td>7.101558</td>\n",
       "    </tr>\n",
       "    <tr>\n",
       "      <th>9</th>\n",
       "      <td>2014</td>\n",
       "      <td>7.079736</td>\n",
       "    </tr>\n",
       "    <tr>\n",
       "      <th>8</th>\n",
       "      <td>2013</td>\n",
       "      <td>7.042308</td>\n",
       "    </tr>\n",
       "    <tr>\n",
       "      <th>6</th>\n",
       "      <td>2011</td>\n",
       "      <td>7.037233</td>\n",
       "    </tr>\n",
       "    <tr>\n",
       "      <th>7</th>\n",
       "      <td>2012</td>\n",
       "      <td>7.012345</td>\n",
       "    </tr>\n",
       "    <tr>\n",
       "      <th>0</th>\n",
       "      <td>2005</td>\n",
       "      <td>7.008924</td>\n",
       "    </tr>\n",
       "    <tr>\n",
       "      <th>1</th>\n",
       "      <td>2006</td>\n",
       "      <td>6.966515</td>\n",
       "    </tr>\n",
       "    <tr>\n",
       "      <th>5</th>\n",
       "      <td>2010</td>\n",
       "      <td>6.966258</td>\n",
       "    </tr>\n",
       "    <tr>\n",
       "      <th>4</th>\n",
       "      <td>2009</td>\n",
       "      <td>6.859798</td>\n",
       "    </tr>\n",
       "    <tr>\n",
       "      <th>2</th>\n",
       "      <td>2007</td>\n",
       "      <td>6.834244</td>\n",
       "    </tr>\n",
       "    <tr>\n",
       "      <th>3</th>\n",
       "      <td>2008</td>\n",
       "      <td>6.831395</td>\n",
       "    </tr>\n",
       "  </tbody>\n",
       "</table>\n",
       "</div>"
      ],
      "text/plain": [
       "    year     score\n",
       "11  2016  7.186878\n",
       "10  2015  7.101558\n",
       "9   2014  7.079736\n",
       "8   2013  7.042308\n",
       "6   2011  7.037233\n",
       "7   2012  7.012345\n",
       "0   2005  7.008924\n",
       "1   2006  6.966515\n",
       "5   2010  6.966258\n",
       "4   2009  6.859798\n",
       "2   2007  6.834244\n",
       "3   2008  6.831395"
      ]
     },
     "execution_count": 8,
     "metadata": {},
     "output_type": "execute_result"
    }
   ],
   "source": [
    "def year_score(a):\n",
    "    a = a.drop_duplicates(subset=['artist', 'year', 'title'])\n",
    "    n = a.count()[0]\n",
    "    if n >= 1000:\n",
    "        y = a.iloc[0, 3]\n",
    "        return {'year': y, 'score': a['score'].mean()}\n",
    "\n",
    "    \n",
    "y_s = [a for a in bst_y.groupby('year').apply(year_score) if a != None]\n",
    "y_s = pd.DataFrame(y_s).sort_values('score', ascending=False)\n",
    "y_s"
   ]
  },
  {
   "cell_type": "markdown",
   "metadata": {},
   "source": [
    "**4. Who is the best artist according to Pitchfork?**"
   ]
  },
  {
   "cell_type": "markdown",
   "metadata": {},
   "source": [
    "In here I am looking at artists mean scores and their best albums. To refrain from list being dominated by one album 10 scored artists, we are looking at artists who had at least 5 albums. As you can see the best artist is the velvet underground with a score of 9.46. And their best oldest album is white light/white heat."
   ]
  },
  {
   "cell_type": "code",
   "execution_count": 9,
   "metadata": {},
   "outputs": [
    {
     "data": {
      "text/html": [
       "<div>\n",
       "<style scoped>\n",
       "    .dataframe tbody tr th:only-of-type {\n",
       "        vertical-align: middle;\n",
       "    }\n",
       "\n",
       "    .dataframe tbody tr th {\n",
       "        vertical-align: top;\n",
       "    }\n",
       "\n",
       "    .dataframe thead th {\n",
       "        text-align: right;\n",
       "    }\n",
       "</style>\n",
       "<table border=\"1\" class=\"dataframe\">\n",
       "  <thead>\n",
       "    <tr style=\"text-align: right;\">\n",
       "      <th></th>\n",
       "      <th>artist</th>\n",
       "      <th>score</th>\n",
       "      <th>best_album</th>\n",
       "    </tr>\n",
       "  </thead>\n",
       "  <tbody>\n",
       "    <tr>\n",
       "      <th>684</th>\n",
       "      <td>the velvet underground</td>\n",
       "      <td>9.457143</td>\n",
       "      <td>white light/white heat</td>\n",
       "    </tr>\n",
       "    <tr>\n",
       "      <th>468</th>\n",
       "      <td>pavement</td>\n",
       "      <td>9.000000</td>\n",
       "      <td>crooked rain, crooked rain: la's desert origins</td>\n",
       "    </tr>\n",
       "    <tr>\n",
       "      <th>603</th>\n",
       "      <td>the beatles</td>\n",
       "      <td>8.890476</td>\n",
       "      <td>stereo box</td>\n",
       "    </tr>\n",
       "    <tr>\n",
       "      <th>555</th>\n",
       "      <td>sleater-kinney</td>\n",
       "      <td>8.860000</td>\n",
       "      <td>start together</td>\n",
       "    </tr>\n",
       "    <tr>\n",
       "      <th>106</th>\n",
       "      <td>caetano veloso</td>\n",
       "      <td>8.840000</td>\n",
       "      <td>caetano veloso</td>\n",
       "    </tr>\n",
       "    <tr>\n",
       "      <th>299</th>\n",
       "      <td>joanna newsom</td>\n",
       "      <td>8.760000</td>\n",
       "      <td>ys</td>\n",
       "    </tr>\n",
       "    <tr>\n",
       "      <th>405</th>\n",
       "      <td>miles davis</td>\n",
       "      <td>8.730769</td>\n",
       "      <td>live at the fillmore east (march 7, 1970): it'...</td>\n",
       "    </tr>\n",
       "    <tr>\n",
       "      <th>82</th>\n",
       "      <td>blur</td>\n",
       "      <td>8.585714</td>\n",
       "      <td>midlife: a beginner's guide to blur</td>\n",
       "    </tr>\n",
       "    <tr>\n",
       "      <th>162</th>\n",
       "      <td>deerhunter</td>\n",
       "      <td>8.562500</td>\n",
       "      <td>microcastle / weird era cont.</td>\n",
       "    </tr>\n",
       "    <tr>\n",
       "      <th>702</th>\n",
       "      <td>tom waits</td>\n",
       "      <td>8.542857</td>\n",
       "      <td>mule variations</td>\n",
       "    </tr>\n",
       "  </tbody>\n",
       "</table>\n",
       "</div>"
      ],
      "text/plain": [
       "                     artist     score  \\\n",
       "684  the velvet underground  9.457143   \n",
       "468                pavement  9.000000   \n",
       "603             the beatles  8.890476   \n",
       "555          sleater-kinney  8.860000   \n",
       "106          caetano veloso  8.840000   \n",
       "299           joanna newsom  8.760000   \n",
       "405             miles davis  8.730769   \n",
       "82                     blur  8.585714   \n",
       "162              deerhunter  8.562500   \n",
       "702               tom waits  8.542857   \n",
       "\n",
       "                                            best_album  \n",
       "684                             white light/white heat  \n",
       "468    crooked rain, crooked rain: la's desert origins  \n",
       "603                                         stereo box  \n",
       "555                                     start together  \n",
       "106                                     caetano veloso  \n",
       "299                                                 ys  \n",
       "405  live at the fillmore east (march 7, 1970): it'...  \n",
       "82                 midlife: a beginner's guide to blur  \n",
       "162                      microcastle / weird era cont.  \n",
       "702                                    mule variations  "
      ]
     },
     "execution_count": 9,
     "metadata": {},
     "output_type": "execute_result"
    }
   ],
   "source": [
    "def album_ranker(a):\n",
    "    a = a.drop_duplicates(subset=['artist', 'title'])\n",
    "    n = a.count()[0]\n",
    "    if n >= 5:\n",
    "        artist = a.iloc[0, 0]\n",
    "        m = max(a['score'])\n",
    "        m1 = a[a['score'] == m].sort_values('year', ascending=True).iloc[0, 1]\n",
    "        return {'artist': artist, 'score': a['score'].mean(), 'best_album': m1}\n",
    "\n",
    "\n",
    "bst_a = [a for a in bst_y.groupby('artist').apply(album_ranker) if a != None]\n",
    "bst_a = pd.DataFrame(bst_a).sort_values('score', ascending=False)\n",
    "bst_a.head(10)"
   ]
  },
  {
   "cell_type": "markdown",
   "metadata": {},
   "source": [
    "**5. What is the Pitchfork's genre selection over the years?**"
   ]
  },
  {
   "cell_type": "markdown",
   "metadata": {},
   "source": [
    "In here I am cleaning the data frame for investigating Pitchfork’s genre selection over the years. I am not including 2017 because this data was taken when 2017 was not over."
   ]
  },
  {
   "cell_type": "code",
   "execution_count": 10,
   "metadata": {},
   "outputs": [
    {
     "data": {
      "text/html": [
       "<div>\n",
       "<style scoped>\n",
       "    .dataframe tbody tr th:only-of-type {\n",
       "        vertical-align: middle;\n",
       "    }\n",
       "\n",
       "    .dataframe tbody tr th {\n",
       "        vertical-align: top;\n",
       "    }\n",
       "\n",
       "    .dataframe thead th {\n",
       "        text-align: right;\n",
       "    }\n",
       "</style>\n",
       "<table border=\"1\" class=\"dataframe\">\n",
       "  <thead>\n",
       "    <tr style=\"text-align: right;\">\n",
       "      <th></th>\n",
       "      <th>genre</th>\n",
       "      <th>pub_year</th>\n",
       "      <th>count</th>\n",
       "    </tr>\n",
       "  </thead>\n",
       "  <tbody>\n",
       "    <tr>\n",
       "      <th>0</th>\n",
       "      <td>electronic</td>\n",
       "      <td>1999</td>\n",
       "      <td>68</td>\n",
       "    </tr>\n",
       "    <tr>\n",
       "      <th>1</th>\n",
       "      <td>electronic</td>\n",
       "      <td>2000</td>\n",
       "      <td>79</td>\n",
       "    </tr>\n",
       "    <tr>\n",
       "      <th>2</th>\n",
       "      <td>electronic</td>\n",
       "      <td>2001</td>\n",
       "      <td>98</td>\n",
       "    </tr>\n",
       "    <tr>\n",
       "      <th>3</th>\n",
       "      <td>electronic</td>\n",
       "      <td>2002</td>\n",
       "      <td>186</td>\n",
       "    </tr>\n",
       "    <tr>\n",
       "      <th>4</th>\n",
       "      <td>electronic</td>\n",
       "      <td>2003</td>\n",
       "      <td>255</td>\n",
       "    </tr>\n",
       "  </tbody>\n",
       "</table>\n",
       "</div>"
      ],
      "text/plain": [
       "        genre  pub_year  count\n",
       "0  electronic      1999     68\n",
       "1  electronic      2000     79\n",
       "2  electronic      2001     98\n",
       "3  electronic      2002    186\n",
       "4  electronic      2003    255"
      ]
     },
     "execution_count": 10,
     "metadata": {},
     "output_type": "execute_result"
    }
   ],
   "source": [
    "g_y = fin_tb.drop_duplicates(subset=['artist', 'pub_year', 'title', 'genre'])\n",
    "g_y = g_y.iloc[0:, [1, 5, 6]].sort_values('pub_year', ascending=False)\n",
    "g_y = g_y[g_y['genre'] != '<NA>']\n",
    "g_y = g_y[g_y['pub_year'] != 2017]\n",
    "genres = g_y['genre'].drop_duplicates()\n",
    "g_y = g_y.groupby(['genre', 'pub_year'])['title'].nunique().reset_index().rename(columns={'title': 'count'})\n",
    "g_y.head()"
   ]
  },
  {
   "cell_type": "markdown",
   "metadata": {},
   "source": [
    "As you can see from the figure Pitchfork primarily reviewed rock albums."
   ]
  },
  {
   "cell_type": "code",
   "execution_count": 11,
   "metadata": {},
   "outputs": [
    {
     "data": {
      "image/png": "[encoded data removed]",
      "text/plain": [
       "<Figure size 648x324 with 1 Axes>"
      ]
     },
     "metadata": {
      "needs_background": "light"
     },
     "output_type": "display_data"
    }
   ],
   "source": [
    "import matplotlib.pyplot as plt\n",
    "from matplotlib.ticker import MaxNLocator\n",
    "\n",
    "ax = plt.figure(figsize=(9, 4.5)).gca()\n",
    "ax.xaxis.set_major_locator(MaxNLocator(integer=True))\n",
    "\n",
    "for genre in genres:\n",
    "    ax.plot('pub_year', 'count', data=g_y[g_y['genre'] == genre])\n",
    "\n",
    "\n",
    "ax.legend(genres, bbox_to_anchor=(1.005, 1), title='Genres')\n",
    "plt.ylabel('Review Count')\n",
    "plt.xlabel('Review Year')\n",
    "plt.title('Trend of Reviews by Genre between 1999-2016')\n",
    "plt.tight_layout()\n",
    "plt.show()"
   ]
  },
  {
   "cell_type": "markdown",
   "metadata": {},
   "source": [
    "**6. Which artists improved themselves?**"
   ]
  },
  {
   "cell_type": "markdown",
   "metadata": {},
   "source": [
    "In here I am going to look at which artists constantly improved themselves and raised their review scores. As you can see the code successfully found the improved artists."
   ]
  },
  {
   "cell_type": "code",
   "execution_count": 12,
   "metadata": {},
   "outputs": [
    {
     "data": {
      "text/html": [
       "<div>\n",
       "<style scoped>\n",
       "    .dataframe tbody tr th:only-of-type {\n",
       "        vertical-align: middle;\n",
       "    }\n",
       "\n",
       "    .dataframe tbody tr th {\n",
       "        vertical-align: top;\n",
       "    }\n",
       "\n",
       "    .dataframe thead th {\n",
       "        text-align: right;\n",
       "    }\n",
       "</style>\n",
       "<table border=\"1\" class=\"dataframe\">\n",
       "  <thead>\n",
       "    <tr style=\"text-align: right;\">\n",
       "      <th></th>\n",
       "      <th>artist</th>\n",
       "      <th>is_improved</th>\n",
       "    </tr>\n",
       "  </thead>\n",
       "  <tbody>\n",
       "    <tr>\n",
       "      <th>0</th>\n",
       "      <td>!!!</td>\n",
       "      <td>False</td>\n",
       "    </tr>\n",
       "    <tr>\n",
       "      <th>1</th>\n",
       "      <td>+/-</td>\n",
       "      <td>False</td>\n",
       "    </tr>\n",
       "    <tr>\n",
       "      <th>2</th>\n",
       "      <td>-ziq</td>\n",
       "      <td>False</td>\n",
       "    </tr>\n",
       "    <tr>\n",
       "      <th>3</th>\n",
       "      <td>...and you will know us by the trail of dead</td>\n",
       "      <td>False</td>\n",
       "    </tr>\n",
       "    <tr>\n",
       "      <th>4</th>\n",
       "      <td>12 rods</td>\n",
       "      <td>True</td>\n",
       "    </tr>\n",
       "  </tbody>\n",
       "</table>\n",
       "</div>"
      ],
      "text/plain": [
       "                                         artist  is_improved\n",
       "0                                           !!!        False\n",
       "1                                           +/-        False\n",
       "2                                          -ziq        False\n",
       "3  ...and you will know us by the trail of dead        False\n",
       "4                                       12 rods         True"
      ]
     },
     "execution_count": 12,
     "metadata": {},
     "output_type": "execute_result"
    }
   ],
   "source": [
    "def imp_album(a):\n",
    "    a = a.drop_duplicates(subset=['artist', 'title'])\n",
    "    n = a.count()[0]\n",
    "    if n >= 2:\n",
    "        artist = a.iloc[0, 0]\n",
    "        fscore = a.iloc[0, 2]\n",
    "        flag = True\n",
    "        for score in a['score']:\n",
    "            if fscore > score:\n",
    "                flag = False\n",
    "                break\n",
    "            else:\n",
    "                fscore = score\n",
    "        return {'artist': artist, 'is_improved': flag}\n",
    "    \n",
    "\n",
    "bst_y = bst_y.sort_values('year', ascending=True)\n",
    "improvement = [a for a in bst_y.groupby('artist').apply(imp_album) if a != None]\n",
    "improvement = pd.DataFrame(improvement)\n",
    "\n",
    "albums = albums.iloc[0:, [0, 1, 3, 4]].sort_values('year', ascending=True)\n",
    "\n",
    "improvement.head()"
   ]
  },
  {
   "cell_type": "code",
   "execution_count": 13,
   "metadata": {},
   "outputs": [
    {
     "name": "stdout",
     "output_type": "stream",
     "text": [
      "        artist  is_improved\n",
      "2229  pavement        False \n",
      "\n"
     ]
    },
    {
     "data": {
      "text/html": [
       "<div>\n",
       "<style scoped>\n",
       "    .dataframe tbody tr th:only-of-type {\n",
       "        vertical-align: middle;\n",
       "    }\n",
       "\n",
       "    .dataframe tbody tr th {\n",
       "        vertical-align: top;\n",
       "    }\n",
       "\n",
       "    .dataframe thead th {\n",
       "        text-align: right;\n",
       "    }\n",
       "</style>\n",
       "<table border=\"1\" class=\"dataframe\">\n",
       "  <thead>\n",
       "    <tr style=\"text-align: right;\">\n",
       "      <th></th>\n",
       "      <th>artist</th>\n",
       "      <th>title</th>\n",
       "      <th>score</th>\n",
       "      <th>year</th>\n",
       "    </tr>\n",
       "  </thead>\n",
       "  <tbody>\n",
       "    <tr>\n",
       "      <th>17202</th>\n",
       "      <td>pavement</td>\n",
       "      <td>crooked rain, crooked rain: la's desert origins</td>\n",
       "      <td>10.0</td>\n",
       "      <td>1994</td>\n",
       "    </tr>\n",
       "    <tr>\n",
       "      <th>10929</th>\n",
       "      <td>pavement</td>\n",
       "      <td>brighten the corners: nicene creedence ed.</td>\n",
       "      <td>8.7</td>\n",
       "      <td>1997</td>\n",
       "    </tr>\n",
       "    <tr>\n",
       "      <th>14154</th>\n",
       "      <td>pavement</td>\n",
       "      <td>wowee zowee: sordid sentinels edition</td>\n",
       "      <td>9.3</td>\n",
       "      <td>2006</td>\n",
       "    </tr>\n",
       "    <tr>\n",
       "      <th>9195</th>\n",
       "      <td>pavement</td>\n",
       "      <td>quarantine the past</td>\n",
       "      <td>10.0</td>\n",
       "      <td>2010</td>\n",
       "    </tr>\n",
       "    <tr>\n",
       "      <th>1736</th>\n",
       "      <td>pavement</td>\n",
       "      <td>the secret history, vol. 1</td>\n",
       "      <td>7.0</td>\n",
       "      <td>2015</td>\n",
       "    </tr>\n",
       "  </tbody>\n",
       "</table>\n",
       "</div>"
      ],
      "text/plain": [
       "         artist                                            title  score  year\n",
       "17202  pavement  crooked rain, crooked rain: la's desert origins   10.0  1994\n",
       "10929  pavement       brighten the corners: nicene creedence ed.    8.7  1997\n",
       "14154  pavement            wowee zowee: sordid sentinels edition    9.3  2006\n",
       "9195   pavement                              quarantine the past   10.0  2010\n",
       "1736   pavement                       the secret history, vol. 1    7.0  2015"
      ]
     },
     "execution_count": 13,
     "metadata": {},
     "output_type": "execute_result"
    }
   ],
   "source": [
    "print(improvement[improvement['artist'] == 'pavement'], '\\n')\n",
    "albums[albums['artist'] == 'pavement']"
   ]
  },
  {
   "cell_type": "code",
   "execution_count": 14,
   "metadata": {},
   "outputs": [
    {
     "name": "stdout",
     "output_type": "stream",
     "text": [
      "          artist  is_improved\n",
      "134  angel olsen         True \n",
      "\n"
     ]
    },
    {
     "data": {
      "text/html": [
       "<div>\n",
       "<style scoped>\n",
       "    .dataframe tbody tr th:only-of-type {\n",
       "        vertical-align: middle;\n",
       "    }\n",
       "\n",
       "    .dataframe tbody tr th {\n",
       "        vertical-align: top;\n",
       "    }\n",
       "\n",
       "    .dataframe thead th {\n",
       "        text-align: right;\n",
       "    }\n",
       "</style>\n",
       "<table border=\"1\" class=\"dataframe\">\n",
       "  <thead>\n",
       "    <tr style=\"text-align: right;\">\n",
       "      <th></th>\n",
       "      <th>artist</th>\n",
       "      <th>title</th>\n",
       "      <th>score</th>\n",
       "      <th>year</th>\n",
       "    </tr>\n",
       "  </thead>\n",
       "  <tbody>\n",
       "    <tr>\n",
       "      <th>5596</th>\n",
       "      <td>angel olsen</td>\n",
       "      <td>half way home</td>\n",
       "      <td>8.0</td>\n",
       "      <td>2012</td>\n",
       "    </tr>\n",
       "    <tr>\n",
       "      <th>3642</th>\n",
       "      <td>angel olsen</td>\n",
       "      <td>burn your fire for no witness</td>\n",
       "      <td>8.3</td>\n",
       "      <td>2014</td>\n",
       "    </tr>\n",
       "    <tr>\n",
       "      <th>414</th>\n",
       "      <td>angel olsen</td>\n",
       "      <td>my woman</td>\n",
       "      <td>8.8</td>\n",
       "      <td>2016</td>\n",
       "    </tr>\n",
       "  </tbody>\n",
       "</table>\n",
       "</div>"
      ],
      "text/plain": [
       "           artist                          title  score  year\n",
       "5596  angel olsen                  half way home    8.0  2012\n",
       "3642  angel olsen  burn your fire for no witness    8.3  2014\n",
       "414   angel olsen                       my woman    8.8  2016"
      ]
     },
     "execution_count": 14,
     "metadata": {},
     "output_type": "execute_result"
    }
   ],
   "source": [
    "print(improvement[improvement['artist'] == 'angel olsen'], '\\n')\n",
    "albums[albums['artist'] == 'angel olsen']"
   ]
  }
 ],
 "metadata": {
  "kernelspec": {
   "display_name": "Python 3",
   "language": "python",
   "name": "python3"
  },
  "language_info": {
   "codemirror_mode": {
    "name": "ipython",
    "version": 3
   },
   "file_extension": ".py",
   "mimetype": "text/x-python",
   "name": "python",
   "nbconvert_exporter": "python",
   "pygments_lexer": "ipython3",
   "version": "3.7.3"
  }
 },
 "nbformat": 4,
 "nbformat_minor": 4
}
